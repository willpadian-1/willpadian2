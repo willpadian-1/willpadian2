{
  "nbformat": 4,
  "nbformat_minor": 0,
  "metadata": {
    "colab": {
      "provenance": [],
      "authorship_tag": "ABX9TyNcw1HxTjyO3suvTdPBf6Dl",
      "include_colab_link": true
    },
    "kernelspec": {
      "name": "python3",
      "display_name": "Python 3"
    },
    "language_info": {
      "name": "python"
    }
  },
  "cells": [
    {
      "cell_type": "markdown",
      "metadata": {
        "id": "view-in-github",
        "colab_type": "text"
      },
      "source": [
        "<a href=\"https://colab.research.google.com/github/willpadian-1/willpadian2/blob/main/REAL_inclassassignments.ipynb\" target=\"_parent\"><img src=\"https://colab.research.google.com/assets/colab-badge.svg\" alt=\"Open In Colab\"/></a>"
      ]
    },
    {
      "cell_type": "code",
      "execution_count": null,
      "metadata": {
        "id": "DSqN3_sPBBw-",
        "colab": {
          "base_uri": "https://localhost:8080/"
        },
        "outputId": "e5cc96d3-4663-47a9-83ba-52eed4d80acd"
      },
      "outputs": [
        {
          "output_type": "stream",
          "name": "stdout",
          "text": [
            "Please provide the radius:5\n",
            "Please provide the height:6\n",
            "Area of cylinder: 345.4 sq. ft\n"
          ]
        }
      ],
      "source": [
        "pi = 3.14\n",
        "radius = float(input('Please provide the radius:'))\n",
        "height = float(input('Please provide the height:'))\n",
        "\n",
        "area = 2 * pi * radius ** 2 + 2 * pi * radius * height\n",
        "\n",
        "print(f'Area of cylinder: {area} sq. ft')"
      ]
    },
    {
      "cell_type": "code",
      "source": [
        "n1 = float(input('Please provide the first number:'))\n",
        "n2 = float(input('Please provide the second number:'))\n",
        "s = input('Please provide the operator:')\n",
        "\n",
        "if s == '+':\n",
        "  print(f'{n1} + {n2} = {n1 + n2}')\n",
        "elif s == '-':\n",
        "  print(f'{n1} - {n2} = {n1 - n2}')\n",
        "elif s == '*':\n",
        "  print(f'{n1} * {n2} = {n1 * n2}')\n",
        "elif s == '/':\n",
        "  print(f'{n1} / {n2} = {n1 / n2}')\n",
        "elif s == '%':\n",
        "  print(f'{n1} % {n2} = {n1 % n2}')\n",
        "elif s == '**':\n",
        "  print(f'{n1} ** {n2} = {n1 ** n2}')\n",
        "elif s == '//':\n",
        "  print(f'{n1} // {n2} = {n1 // n2}')\n",
        "else:\n",
        "  print('Invalid operator')"
      ],
      "metadata": {
        "id": "w093mFEhGYP_",
        "colab": {
          "base_uri": "https://localhost:8080/"
        },
        "outputId": "c5aae3bb-584e-4c17-fede-b716c1ee9678"
      },
      "execution_count": null,
      "outputs": [
        {
          "output_type": "stream",
          "name": "stdout",
          "text": [
            "Please provide the first number:35\n",
            "Please provide the second number:6\n",
            "Please provide the operator:/\n",
            "35.0 / 6.0 = 5.833333333333333\n"
          ]
        }
      ]
    },
    {
      "cell_type": "code",
      "source": [
        "for numberHours in range(1, 9):\n",
        "  fee = 5 + 2.5 * numberHours\n",
        "  if fee < 10:\n",
        "    fee = 10.0\n",
        "  elif fee < 20:\n",
        "    fee = 20.0\n",
        "  print(f'Hours: {numberHours} Fee: {fee}')"
      ],
      "metadata": {
        "id": "yNzAC9AqyP2v",
        "colab": {
          "base_uri": "https://localhost:8080/"
        },
        "outputId": "a41c5c59-83ab-40cf-9984-32053a930379"
      },
      "execution_count": null,
      "outputs": [
        {
          "output_type": "stream",
          "name": "stdout",
          "text": [
            "Hours: 1 Fee: 10.0\n",
            "Hours: 2 Fee: 20.0\n",
            "Hours: 3 Fee: 20.0\n",
            "Hours: 4 Fee: 20.0\n",
            "Hours: 5 Fee: 20.0\n",
            "Hours: 6 Fee: 20.0\n",
            "Hours: 7 Fee: 22.5\n",
            "Hours: 8 Fee: 25.0\n"
          ]
        }
      ]
    },
    {
      "cell_type": "code",
      "source": [
        "for adMoney in range(0, 201, 25):\n",
        "  revenue = (20 + 2 * round(adMoney ** .5)) * 10\n",
        "  costs = 200 + adMoney\n",
        "  profit = revenue - costs\n",
        "  print(adMoney, '\\t', profit)"
      ],
      "metadata": {
        "colab": {
          "base_uri": "https://localhost:8080/"
        },
        "id": "SFXc6fszeb6X",
        "outputId": "c3010fe8-624b-4835-8a4b-b9ff8ea4add3"
      },
      "execution_count": null,
      "outputs": [
        {
          "output_type": "stream",
          "name": "stdout",
          "text": [
            "0 \t 0\n",
            "25 \t 75\n",
            "50 \t 90\n",
            "75 \t 105\n",
            "100 \t 100\n",
            "125 \t 95\n",
            "150 \t 90\n",
            "175 \t 85\n",
            "200 \t 80\n"
          ]
        }
      ]
    },
    {
      "cell_type": "code",
      "source": [
        "# Rock Paper Scissors Game\n",
        "import random\n",
        "\n",
        "\n",
        "play = input('Would you like to play a game (Yes/No)? ').capitalize()\n",
        "\n",
        "\n",
        "while play == 'Yes':\n",
        " p1 = input('Player 1 - Choose between Rock/Paper/Scissors: ').capitalize()\n",
        " if p1 in ['Rock', 'Paper', 'Scissors']:\n",
        "   p2 = random.choice(['Rock', 'Paper', 'Scissors']).capitalize()\n",
        "\n",
        "\n",
        "   print(f'Player chose: {p1}; Computer chose: {p2} ')\n",
        "\n",
        "\n",
        "   if p1 == p2:\n",
        "     print(\"It's a tie!\")\n",
        "   elif ((p1 == 'Rock' and p2 == 'Scissors') or\n",
        "       (p1 == 'Scissors' and p2 == 'Paper') or\n",
        "       (p1 == 'Paper' and p2 == 'Rock')\n",
        "       ):\n",
        "     print('Player wins!')\n",
        "   else:\n",
        "     print('Computer wins!')\n",
        "\n",
        "\n",
        " else:\n",
        "   print('Invalid Input')\n",
        " play = input('Would you like to play another game (Yes/No)? ').capitalize()\n",
        "print('Have a good day!')"
      ],
      "metadata": {
        "colab": {
          "base_uri": "https://localhost:8080/"
        },
        "id": "6ErDqiuXkh55",
        "outputId": "1564facc-97b0-4871-b819-29ce63ba0e2e"
      },
      "execution_count": null,
      "outputs": [
        {
          "output_type": "stream",
          "name": "stdout",
          "text": [
            "Would you like to play a game (Yes/No)? no\n",
            "Have a good day!\n"
          ]
        }
      ]
    },
    {
      "cell_type": "code",
      "source": [
        "# Infinite List of Numbers (Decimals)\n",
        "lst = []\n",
        "\n",
        "\n",
        "num = float(input('Give a number: '))\n",
        "\n",
        "\n",
        "while num != 0.0:\n",
        " lst.append(num)\n",
        " num = float(input('Give a number: '))\n",
        "lst.sort(reverse=True)\n",
        "print(lst)"
      ],
      "metadata": {
        "id": "lgzKyKPzSUkw"
      },
      "execution_count": null,
      "outputs": []
    },
    {
      "cell_type": "code",
      "source": [
        "def calcFee(hours):\n",
        "  fee = 5 + 2.5 * hours\n",
        "  if fee < 10.0:\n",
        "    fee = 10.0\n",
        "  elif fee >= 20.0:\n",
        "    fee = 20.0\n",
        "  print(f'Fee: ${fee}')\n",
        "\n",
        "def main():\n",
        "  numHours = int(input('Number of hours: '))\n",
        "  calcFee(numHours)\n",
        "\n",
        "main()"
      ],
      "metadata": {
        "colab": {
          "base_uri": "https://localhost:8080/"
        },
        "id": "sbpifU7Emc_Y",
        "outputId": "d38a6c69-464f-40df-ab3b-9c9138dbadc5"
      },
      "execution_count": null,
      "outputs": [
        {
          "output_type": "stream",
          "name": "stdout",
          "text": [
            "Number of hours: 5\n",
            "Fee: $17.5\n"
          ]
        }
      ]
    },
    {
      "cell_type": "code",
      "source": [
        "months = {}\n",
        "\n",
        "\n",
        "\n",
        "names = [\"Jan\", \"Feb\",\"Mar\", \"Apr\", \"May\", \"Jun\", \"Jul\", \"Aug\",\"Sep\", \"Oct\", \"Nov\",\"Dec\"]\n",
        "\n",
        "numbers = [1,2,3,4,5,6,7,8,9,10,11,12]\n",
        "\n",
        "\n",
        "\n",
        "for num in numbers:\n",
        "\n",
        "  months[num] = names[num - 1]\n",
        "\n",
        "months"
      ],
      "metadata": {
        "id": "05aZF1b0M6i-"
      },
      "execution_count": null,
      "outputs": []
    },
    {
      "cell_type": "code",
      "source": [
        "counts = {}\n",
        "\n",
        "\n",
        "\n",
        "while len(counts) < 5:\n",
        "\n",
        "  key = input(\"Give a string: \")\n",
        "\n",
        "\n",
        "\n",
        "  if key not in counts:\n",
        "\n",
        "    counts[key] = 1\n",
        "\n",
        "  else:\n",
        "\n",
        "    counts[key] += 1\n",
        "\n",
        "counts"
      ],
      "metadata": {
        "id": "l7S3jJBoM_k1"
      },
      "execution_count": null,
      "outputs": []
    },
    {
      "cell_type": "code",
      "source": [
        "import math\n",
        "\n",
        "class Point:\n",
        "  def __init__(self, x, y):\n",
        "    self.x = x\n",
        "    self.y = y\n",
        "\n",
        "  def distance(self, other):\n",
        "    return math.sqrt((self.x - other.x) ** 2 + (self.y - other.y) ** 2)"
      ],
      "metadata": {
        "id": "bgvrlXGbpQwH"
      },
      "execution_count": null,
      "outputs": []
    },
    {
      "cell_type": "code",
      "source": [
        "class Rectangle:\n",
        "  def __init__(self):\n",
        "    self.c1 = Point(0, 0)\n",
        "    self.c2 = Point(0, 2)\n",
        "    self.c3 = Point(2, 0)\n",
        "    self.c4 = Point(2, 2)\n",
        "\n",
        "  def calculate_width(self):\n",
        "    return self.c1.distance(self.c2)\n",
        "\n",
        "  def calculate_length(self):\n",
        "    return self.c1.distance(self.c3)\n",
        "\n",
        "  def area(self):\n",
        "    return f'Area = {self.calculate_width() * self.calculate_length()} sq. ft.'\n",
        "\n",
        "square = Rectangle()\n",
        "square.area()"
      ],
      "metadata": {
        "id": "2q6V5yGApZ5A",
        "colab": {
          "base_uri": "https://localhost:8080/",
          "height": 35
        },
        "outputId": "2eae0352-b2a6-4a99-bbd9-cfe92086e884"
      },
      "execution_count": null,
      "outputs": [
        {
          "output_type": "execute_result",
          "data": {
            "text/plain": [
              "'Area = 4.0 sq. ft.'"
            ],
            "application/vnd.google.colaboratory.intrinsic+json": {
              "type": "string"
            }
          },
          "metadata": {},
          "execution_count": 7
        }
      ]
    },
    {
      "cell_type": "code",
      "source": [
        "class Greeting:\n",
        "  def __init__(self, first, last):\n",
        "    self.first = first\n",
        "    self.last = last\n",
        "\n",
        "  def display(self, formal=False):\n",
        "    if formal:\n",
        "      print(f'Hello, {self.first} {self.last}')\n",
        "    else:\n",
        "      print(f'Hi {self.first}')\n",
        "\n",
        "  def __str__(self):\n",
        "    return f'{self.first}, {self.last}'\n",
        "greeting = Greeting('Donald', 'Becker')\n",
        "greeting.display()\n",
        "print(greeting)"
      ],
      "metadata": {
        "id": "fWpLXHE_qSSY",
        "colab": {
          "base_uri": "https://localhost:8080/"
        },
        "outputId": "bcad76ed-a442-4e16-edaf-efbc7f4df3d8"
      },
      "execution_count": 6,
      "outputs": [
        {
          "output_type": "stream",
          "name": "stdout",
          "text": [
            "Hi Donald\n",
            "Donald, Becker\n"
          ]
        }
      ]
    },
    {
      "cell_type": "code",
      "source": [
        "def getValues(n):\n",
        "    L = []\n",
        "    for i in range(n):\n",
        "        try:\n",
        "            x = float(input(\"Enter a value: \"))\n",
        "            L.append(x)\n",
        "        except ValueError:\n",
        "            print(\"Invalid input. Please enter a number.\")\n",
        "            return []\n",
        "    return L\n",
        "\n",
        "def calcAverage(alist):\n",
        "    if len(alist) == 0:\n",
        "        print(\"No values were entered. Cannot calculate average.\")\n",
        "        return None\n",
        "    sum = 0\n",
        "    for x in alist:\n",
        "        sum += x\n",
        "    return sum / len(alist)\n",
        "\n",
        "if __name__ == \"__main__\":\n",
        "    try:\n",
        "        n = int(input(\"Enter the number of values: \"))\n",
        "        L = getValues(n)\n",
        "        avg = calcAverage(L)\n",
        "        if avg is not None:\n",
        "            print(f\"The average is: {avg:.2f}\")\n",
        "    except ValueError:\n",
        "        print(\"Invalid input. Please enter a whole number.\")"
      ],
      "metadata": {
        "colab": {
          "base_uri": "https://localhost:8080/"
        },
        "id": "Y-Pu4-kFij-i",
        "outputId": "322ece1b-2656-41eb-ae2a-b149c9b0fac2"
      },
      "execution_count": 7,
      "outputs": [
        {
          "output_type": "stream",
          "name": "stdout",
          "text": [
            "Enter the number of values: 6\n",
            "Enter a value: 4\n",
            "Enter a value: 3\n",
            "Enter a value: 2\n",
            "Enter a value: 1\n",
            "Enter a value: 1\n",
            "Enter a value: 1\n",
            "The average is: 2.00\n"
          ]
        }
      ]
    },
    {
      "cell_type": "code",
      "source": [
        "def reverse(s):\n",
        "  if len(s) <= 1:\n",
        "    return s\n",
        "  else:\n",
        "    return s[-1] + reverse(s[:-1])\n",
        "\n",
        "reverse('Hello')"
      ],
      "metadata": {
        "colab": {
          "base_uri": "https://localhost:8080/",
          "height": 35
        },
        "id": "frVSZSKR6M7b",
        "outputId": "5913bb86-1fd6-4701-fe88-7409950ede66"
      },
      "execution_count": 3,
      "outputs": [
        {
          "output_type": "execute_result",
          "data": {
            "text/plain": [
              "'olleH'"
            ],
            "application/vnd.google.colaboratory.intrinsic+json": {
              "type": "string"
            }
          },
          "metadata": {},
          "execution_count": 3
        }
      ]
    }
  ]
}